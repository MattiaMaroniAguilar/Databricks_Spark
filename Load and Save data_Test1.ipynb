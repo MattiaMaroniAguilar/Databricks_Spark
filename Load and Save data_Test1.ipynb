{
 "cells": [
  {
   "cell_type": "markdown",
   "metadata": {
    "application/vnd.databricks.v1+cell": {
     "cellMetadata": {},
     "inputWidgets": {},
     "nuid": "7579e6e2-e392-4f51-85a1-6eed1b870206",
     "showTitle": false,
     "tableResultSettingsMap": {},
     "title": ""
    }
   },
   "source": [
    "# Loading from Excel after creating a volume folder"
   ]
  },
  {
   "cell_type": "markdown",
   "metadata": {
    "application/vnd.databricks.v1+cell": {
     "cellMetadata": {},
     "inputWidgets": {},
     "nuid": "70e8f03b-98ab-485e-90ae-ed24de1486b8",
     "showTitle": false,
     "tableResultSettingsMap": {},
     "title": ""
    }
   },
   "source": [
    "Remember that to create a volume folder to store files and get their file path, we should follow the following instructions:\n",
    "1. Go to Catalog>Add data (+) or in the sidebar go to Data Engineering>Data Ingestion> Files> Upload files to a volume> Create volume inside your catalog:\n",
    "![](path)"
   ]
  },
  {
   "cell_type": "code",
   "execution_count": 0,
   "metadata": {
    "application/vnd.databricks.v1+cell": {
     "cellMetadata": {
      "byteLimit": 2048000,
      "rowLimit": 10000
     },
     "inputWidgets": {},
     "nuid": "89640c05-bba8-4356-93c2-9470176a8119",
     "showTitle": false,
     "tableResultSettingsMap": {},
     "title": ""
    }
   },
   "outputs": [
    {
     "output_type": "stream",
     "name": "stdout",
     "output_type": "stream",
     "text": [
      "Requirement already satisfied: openpyxl in /local_disk0/.ephemeral_nfs/envs/pythonEnv-d7e6d2c6-b9df-4191-bcfe-caa0dccc1a02/lib/python3.11/site-packages (3.1.5)\nRequirement already satisfied: et-xmlfile in /local_disk0/.ephemeral_nfs/envs/pythonEnv-d7e6d2c6-b9df-4191-bcfe-caa0dccc1a02/lib/python3.11/site-packages (from openpyxl) (2.0.0)\n\u001B[43mNote: you may need to restart the kernel using %restart_python or dbutils.library.restartPython() to use updated packages.\u001B[0m\n"
     ]
    }
   ],
   "source": [
    "%pip install openpyxl\n",
    "import pandas as pd\n",
    "import openpyxl"
   ]
  },
  {
   "cell_type": "code",
   "execution_count": 0,
   "metadata": {
    "application/vnd.databricks.v1+cell": {
     "cellMetadata": {
      "byteLimit": 2048000,
      "rowLimit": 10000
     },
     "inputWidgets": {},
     "nuid": "a6d01cd8-1e10-4a1a-ad05-29868f8c056d",
     "showTitle": false,
     "tableResultSettingsMap": {},
     "title": ""
    }
   },
   "outputs": [],
   "source": [
    "df = pd.read_excel(\"/Volumes/workspace/test_schema/test_volume_folder/ufo_sighting_data.xlsx\", engine='openpyxl')\n",
    "sdf = spark.createDataFrame(df)"
   ]
  },
  {
   "cell_type": "code",
   "execution_count": 0,
   "metadata": {
    "application/vnd.databricks.v1+cell": {
     "cellMetadata": {
      "byteLimit": 2048000,
      "rowLimit": 10000
     },
     "inputWidgets": {},
     "nuid": "6a36c96b-e797-4f4d-b5f4-5ca961113a01",
     "showTitle": false,
     "tableResultSettingsMap": {},
     "title": ""
    }
   },
   "outputs": [
    {
     "output_type": "stream",
     "name": "stdout",
     "output_type": "stream",
     "text": [
      "+----------------+--------------------+--------------+-------+---------+---------------------------+-------------------------------+--------------------+---------------+----------+------------+\n|       Date_time|                city|state/province|country|UFO_shape|length_of_encounter_seconds|described_duration_of_encounter|         description|date_documented|  latitude|   longitude|\n+----------------+--------------------+--------------+-------+---------+---------------------------+-------------------------------+--------------------+---------------+----------+------------+\n|10/10/1949 20:30|          san marcos|            tx|     us| cylinder|                       2700|                     45 minutes|This event took p...|      4/27/2004|29.8830556| -97.9411111|\n|10/10/1949 21:00|        lackland afb|            tx|   NULL|    light|                       7200|                        1-2 hrs|1949 Lackland AFB...|     12/16/2005|  29.38421|  -98.581082|\n|10/10/1955 17:00|chester (uk/england)|          NULL|     gb|   circle|                         20|                     20 seconds|Green/Orange circ...|      1/21/2008|      53.2|   -2.916667|\n|10/10/1956 21:00|                edna|            tx|     us|   circle|                         20|                       1/2 hour|My older brother ...|      1/17/2004|28.9783333| -96.6458333|\n|10/10/1960 20:00|             kaneohe|            hi|     us|    light|                        900|                     15 minutes|AS a Marine 1st L...|      1/22/2004|21.4180556|-157.8036111|\n|10/10/1961 19:00|             bristol|            tn|     us|   sphere|                        300|                      5 minutes|My father is now ...|      4/27/2007|    36.595| -82.1888889|\n|10/10/1965 21:00|  penarth (uk/wales)|          NULL|     gb|   circle|                        180|                   about 3 mins|penarth uk  circl...|      2/14/2006| 51.434722|       -3.18|\n|10/10/1965 23:45|             norwalk|            ct|     us|     disk|                       1200|                     20 minutes|A bright orange c...|      10/2/1999|   41.1175| -73.4083333|\n|10/10/1966 20:00|           pell city|            al|     us|     disk|                        180|                     3  minutes|Strobe Lighted di...|      3/19/2009|33.5861111| -86.2861111|\n|10/10/1966 21:00|            live oak|            fl|     us|     disk|                        120|                several minutes|Saucer zaps energ...|      5/11/2005|30.2947222| -82.9841667|\n|10/10/1968 13:00|           hawthorne|            ca|     us|   circle|                        300|                         5 min.|ROUND &#44 ORANGE...|     10/31/2003|33.9163889|-118.3516667|\n|10/10/1968 19:00|             brevard|            nc|     us| fireball|                        180|                      3 minutes|silent red /orang...|      6/12/2008|35.2333333| -82.7344444|\n|10/10/1970 16:00|            bellmore|            ny|     us|     disk|                       1800|                        30 min.|silver disc seen ...|      5/11/2000|40.6686111|    -73.5275|\n|10/10/1970 19:00|          manchester|            ky|     us|  unknown|                        180|                      3 minutes|Slow moving&#44 s...|      2/14/2008|37.1536111| -83.7619444|\n|10/10/1971 21:00|           lexington|            nc|     us|     oval|                         30|                     30 seconds|green oval shaped...|      2/14/2010|35.8238889| -80.2536111|\n|10/10/1972 19:00|       harlan county|            ky|     us|   circle|                       1200|                      20minutes|On october 10&#44...|      9/15/2005|36.8430556| -83.3219444|\n|10/10/1972 22:30|     west bloomfield|            mi|     us|     disk|                        120|                      2 minutes|The UFO was so cl...|      8/14/2007|42.5377778| -83.2330556|\n|10/10/1973 19:00|             niantic|            ct|     us|     disk|                       1800|                      20-30 min|Oh&#44 what a nig...|      9/24/2003|41.3252778| -72.1936111|\n|10/10/1973 23:00|         bermuda nas|          NULL|   NULL|    light|                         20|                        20 sec.|saw fast moving b...|      1/11/2002| 32.364167|  -64.678611|\n|10/10/1974 19:30|              hudson|            ma|     us|    other|                       2700|                     45 minutes|Not sure of the e...|      8/10/1999|42.3916667| -71.5666667|\n+----------------+--------------------+--------------+-------+---------+---------------------------+-------------------------------+--------------------+---------------+----------+------------+\nonly showing top 20 rows\n"
     ]
    }
   ],
   "source": [
    "sdf.show()"
   ]
  },
  {
   "cell_type": "code",
   "execution_count": 0,
   "metadata": {
    "application/vnd.databricks.v1+cell": {
     "cellMetadata": {
      "byteLimit": 2048000,
      "rowLimit": 10000
     },
     "inputWidgets": {},
     "nuid": "0c24432d-f8d6-47da-a2d6-13b46c919773",
     "showTitle": false,
     "tableResultSettingsMap": {},
     "title": ""
    }
   },
   "outputs": [
    {
     "output_type": "stream",
     "name": "stdout",
     "output_type": "stream",
     "text": [
      "+----------------+--------------------+--------------+-------+---------+---------------------------+-------------------------------+--------------------+---------------+----------+------------+\n|       Date_time|                city|state/province|country|UFO_shape|length_of_encounter_seconds|described_duration_of_encounter|         description|date_documented|  latitude|   longitude|\n+----------------+--------------------+--------------+-------+---------+---------------------------+-------------------------------+--------------------+---------------+----------+------------+\n|10/10/1949 20:30|          san marcos|            tx|     us| cylinder|                     2700.0|                     45 minutes|This event took p...|      4/27/2004|29.8830556| -97.9411111|\n|10/10/1949 21:00|        lackland afb|            tx|   NULL|    light|                     7200.0|                        1-2 hrs|1949 Lackland AFB...|     12/16/2005|  29.38421|  -98.581082|\n|10/10/1955 17:00|chester (uk/england)|          NULL|     gb|   circle|                       20.0|                     20 seconds|Green/Orange circ...|      1/21/2008|      53.2|   -2.916667|\n|10/10/1956 21:00|                edna|            tx|     us|   circle|                       20.0|                       1/2 hour|My older brother ...|      1/17/2004|28.9783333| -96.6458333|\n|10/10/1960 20:00|             kaneohe|            hi|     us|    light|                      900.0|                     15 minutes|AS a Marine 1st L...|      1/22/2004|21.4180556|-157.8036111|\n|10/10/1961 19:00|             bristol|            tn|     us|   sphere|                      300.0|                      5 minutes|My father is now ...|      4/27/2007|    36.595| -82.1888889|\n|10/10/1965 21:00|  penarth (uk/wales)|          NULL|     gb|   circle|                      180.0|                   about 3 mins|penarth uk  circl...|      2/14/2006| 51.434722|       -3.18|\n|10/10/1965 23:45|             norwalk|            ct|     us|     disk|                     1200.0|                     20 minutes|A bright orange c...|      10/2/1999|   41.1175| -73.4083333|\n|10/10/1966 20:00|           pell city|            al|     us|     disk|                      180.0|                     3  minutes|Strobe Lighted di...|      3/19/2009|33.5861111| -86.2861111|\n|10/10/1966 21:00|            live oak|            fl|     us|     disk|                      120.0|                several minutes|Saucer zaps energ...|      5/11/2005|30.2947222| -82.9841667|\n|10/10/1968 13:00|           hawthorne|            ca|     us|   circle|                      300.0|                         5 min.|ROUND &#44 ORANGE...|     10/31/2003|33.9163889|-118.3516667|\n|10/10/1968 19:00|             brevard|            nc|     us| fireball|                      180.0|                      3 minutes|silent red /orang...|      6/12/2008|35.2333333| -82.7344444|\n|10/10/1970 16:00|            bellmore|            ny|     us|     disk|                     1800.0|                        30 min.|silver disc seen ...|      5/11/2000|40.6686111|    -73.5275|\n|10/10/1970 19:00|          manchester|            ky|     us|  unknown|                      180.0|                      3 minutes|Slow moving&#44 s...|      2/14/2008|37.1536111| -83.7619444|\n|10/10/1971 21:00|           lexington|            nc|     us|     oval|                       30.0|                     30 seconds|green oval shaped...|      2/14/2010|35.8238889| -80.2536111|\n|10/10/1972 19:00|       harlan county|            ky|     us|   circle|                     1200.0|                      20minutes|On october 10&#44...|      9/15/2005|36.8430556| -83.3219444|\n|10/10/1972 22:30|     west bloomfield|            mi|     us|     disk|                      120.0|                      2 minutes|The UFO was so cl...|      8/14/2007|42.5377778| -83.2330556|\n|10/10/1973 19:00|             niantic|            ct|     us|     disk|                     1800.0|                      20-30 min|Oh&#44 what a nig...|      9/24/2003|41.3252778| -72.1936111|\n|10/10/1973 23:00|         bermuda nas|          NULL|   NULL|    light|                       20.0|                        20 sec.|saw fast moving b...|      1/11/2002| 32.364167|  -64.678611|\n|10/10/1974 19:30|              hudson|            ma|     us|    other|                     2700.0|                     45 minutes|Not sure of the e...|      8/10/1999|42.3916667| -71.5666667|\n+----------------+--------------------+--------------+-------+---------+---------------------------+-------------------------------+--------------------+---------------+----------+------------+\nonly showing top 20 rows\n"
     ]
    }
   ],
   "source": [
    "from pyspark.sql.types import StructType, StructField, StringType, FloatType, DoubleType\n",
    "import pandas as pd\n",
    "\n",
    "schema = StructType([\n",
    "    StructField(\"Date_time\", StringType(), True),\n",
    "    StructField(\"city\", StringType(), True),\n",
    "    StructField(\"state/province\", StringType(), True),\n",
    "    StructField(\"country\", StringType(), True),\n",
    "    StructField(\"UFO_shape\", StringType(), True),\n",
    "    StructField(\"length_of_encounter_seconds\", FloatType(), True),\n",
    "    StructField(\"described_duration_of_encounter\", StringType(), True),\n",
    "    StructField(\"description\", StringType(), True),\n",
    "    StructField(\"date_documented\", StringType(), True),\n",
    "    StructField(\"latitude\", DoubleType(), True),\n",
    "    StructField(\"longitude\", DoubleType(), True)\n",
    "])\n",
    "\n",
    "# Read CSV with proper handling of mixed types\n",
    "df_csv = pd.read_csv(\"/Volumes/workspace/test_schema/test_volume_folder/ufo_sighting_data.csv\", \n",
    "                     low_memory=False, \n",
    "                     dtype=str)  # Read everything as string first\n",
    "\n",
    "# Convert problematic columns with error handling\n",
    "df_csv['length_of_encounter_seconds'] = pd.to_numeric(df_csv['length_of_encounter_seconds'], errors='coerce')\n",
    "df_csv['latitude'] = pd.to_numeric(df_csv['latitude'], errors='coerce')\n",
    "df_csv['longitude'] = pd.to_numeric(df_csv['longitude'], errors='coerce')\n",
    "\n",
    "# Handle NaN values that cause Arrow conversion issues\n",
    "df_csv = df_csv.fillna({\n",
    "    'length_of_encounter_seconds': 0.0,\n",
    "    'latitude': 0.0,\n",
    "    'longitude': 0.0\n",
    "})\n",
    "\n",
    "# Create Spark DataFrame\n",
    "sdf_csv = spark.createDataFrame(df_csv, schema=schema)\n",
    "sdf_csv.show()"
   ]
  },
  {
   "cell_type": "code",
   "execution_count": 0,
   "metadata": {
    "application/vnd.databricks.v1+cell": {
     "cellMetadata": {
      "byteLimit": 2048000,
      "rowLimit": 10000
     },
     "inputWidgets": {},
     "nuid": "01f75174-d3d7-4989-bdb9-25d22d55948d",
     "showTitle": false,
     "tableResultSettingsMap": {},
     "title": ""
    }
   },
   "outputs": [
    {
     "output_type": "stream",
     "name": "stdout",
     "output_type": "stream",
     "text": [
      "+----------------+----------------+--------------+-------+---------+---------------------------+-------------------------------+--------------------+---------------+----------+------------+\n|       Date_time|            city|state/province|country|UFO_shape|length_of_encounter_seconds|described_duration_of_encounter|         description|date_documented|  latitude|   longitude|\n+----------------+----------------+--------------+-------+---------+---------------------------+-------------------------------+--------------------+---------------+----------+------------+\n|10/10/1949 20:30|      san marcos|            tx|     us| cylinder|                       2700|                     45 minutes|This event took p...|      4/27/2004|29.8830556| -97.9411111|\n|10/10/1956 21:00|            edna|            tx|     us|   circle|                         20|                       1/2 hour|My older brother ...|      1/17/2004|28.9783333| -96.6458333|\n|10/10/1960 20:00|         kaneohe|            hi|     us|    light|                        900|                     15 minutes|AS a Marine 1st L...|      1/22/2004|21.4180556|-157.8036111|\n|10/10/1961 19:00|         bristol|            tn|     us|   sphere|                        300|                      5 minutes|My father is now ...|      4/27/2007|    36.595| -82.1888889|\n|10/10/1965 23:45|         norwalk|            ct|     us|     disk|                       1200|                     20 minutes|A bright orange c...|      10/2/1999|   41.1175| -73.4083333|\n|10/10/1966 20:00|       pell city|            al|     us|     disk|                        180|                     3  minutes|Strobe Lighted di...|      3/19/2009|33.5861111| -86.2861111|\n|10/10/1966 21:00|        live oak|            fl|     us|     disk|                        120|                several minutes|Saucer zaps energ...|      5/11/2005|30.2947222| -82.9841667|\n|10/10/1968 13:00|       hawthorne|            ca|     us|   circle|                        300|                         5 min.|ROUND &#44 ORANGE...|     10/31/2003|33.9163889|-118.3516667|\n|10/10/1968 19:00|         brevard|            nc|     us| fireball|                        180|                      3 minutes|silent red /orang...|      6/12/2008|35.2333333| -82.7344444|\n|10/10/1970 16:00|        bellmore|            ny|     us|     disk|                       1800|                        30 min.|silver disc seen ...|      5/11/2000|40.6686111|    -73.5275|\n|10/10/1970 19:00|      manchester|            ky|     us|  unknown|                        180|                      3 minutes|Slow moving&#44 s...|      2/14/2008|37.1536111| -83.7619444|\n|10/10/1971 21:00|       lexington|            nc|     us|     oval|                         30|                     30 seconds|green oval shaped...|      2/14/2010|35.8238889| -80.2536111|\n|10/10/1972 19:00|   harlan county|            ky|     us|   circle|                       1200|                      20minutes|On october 10&#44...|      9/15/2005|36.8430556| -83.3219444|\n|10/10/1972 22:30| west bloomfield|            mi|     us|     disk|                        120|                      2 minutes|The UFO was so cl...|      8/14/2007|42.5377778| -83.2330556|\n|10/10/1973 19:00|         niantic|            ct|     us|     disk|                       1800|                      20-30 min|Oh&#44 what a nig...|      9/24/2003|41.3252778| -72.1936111|\n|10/10/1974 19:30|          hudson|            ma|     us|    other|                       2700|                     45 minutes|Not sure of the e...|      8/10/1999|42.3916667| -71.5666667|\n|10/10/1974 23:00|          hudson|            ks|     us|    light|                       1200|                      one hour?|The light chased us.|      7/25/2004|38.1055556| -98.6597222|\n|10/10/1975 17:00|north charleston|            sc|     us|    light|                        360|                    5-6 minutes|Several Flashing ...|      2/14/2008|32.8544444|     -79.975|\n+----------------+----------------+--------------+-------+---------+---------------------------+-------------------------------+--------------------+---------------+----------+------------+\n\n"
     ]
    }
   ],
   "source": [
    "sdf_us = sdf.filter(sdf['country'] == 'us')\n",
    "sdf_us.show()"
   ]
  },
  {
   "cell_type": "markdown",
   "metadata": {
    "application/vnd.databricks.v1+cell": {
     "cellMetadata": {},
     "inputWidgets": {},
     "nuid": "f930d8fa-cb53-4297-b901-b315e9e0e2f9",
     "showTitle": false,
     "tableResultSettingsMap": {},
     "title": ""
    }
   },
   "source": [
    "# Save the US dataframe into a delta table"
   ]
  },
  {
   "cell_type": "code",
   "execution_count": 0,
   "metadata": {
    "application/vnd.databricks.v1+cell": {
     "cellMetadata": {
      "byteLimit": 2048000,
      "rowLimit": 10000
     },
     "inputWidgets": {},
     "nuid": "415320c6-4001-4141-a06c-4c3537ec3a33",
     "showTitle": false,
     "tableResultSettingsMap": {},
     "title": ""
    }
   },
   "outputs": [],
   "source": [
    "sdf_us.write.format(\"delta\").mode(\"overwrite\").saveAsTable(\"test_schema.ufo_sighting_data\")"
   ]
  },
  {
   "cell_type": "markdown",
   "metadata": {
    "application/vnd.databricks.v1+cell": {
     "cellMetadata": {},
     "inputWidgets": {},
     "nuid": "aab8a4ab-962f-4814-ac3e-7fc310222c1f",
     "showTitle": false,
     "tableResultSettingsMap": {},
     "title": ""
    }
   },
   "source": [
    "# Filter original dataset for Great Britain dataset"
   ]
  },
  {
   "cell_type": "code",
   "execution_count": 0,
   "metadata": {
    "application/vnd.databricks.v1+cell": {
     "cellMetadata": {
      "byteLimit": 2048000,
      "rowLimit": 10000
     },
     "inputWidgets": {},
     "nuid": "8c2fa3ac-22f7-4dae-ba02-80b37de38b1e",
     "showTitle": false,
     "tableResultSettingsMap": {},
     "title": ""
    }
   },
   "outputs": [
    {
     "output_type": "stream",
     "name": "stdout",
     "output_type": "stream",
     "text": [
      "+----------------+--------------------+--------------+-------+---------+---------------------------+-------------------------------+--------------------+---------------+---------+---------+\n|       Date_time|                city|state/province|country|UFO_shape|length_of_encounter_seconds|described_duration_of_encounter|         description|date_documented| latitude|longitude|\n+----------------+--------------------+--------------+-------+---------+---------------------------+-------------------------------+--------------------+---------------+---------+---------+\n|10/10/1955 17:00|chester (uk/england)|          NULL|     gb|   circle|                         20|                     20 seconds|Green/Orange circ...|      1/21/2008|     53.2|-2.916667|\n|10/10/1965 21:00|  penarth (uk/wales)|          NULL|     gb|   circle|                        180|                   about 3 mins|penarth uk  circl...|      2/14/2006|51.434722|    -3.18|\n|10/10/1974 21:30|  cardiff (uk/wales)|          NULL|     gb|     disk|                       1200|                     20 minutes|back in 1974 I wa...|       2/1/2007|     51.5|     -3.2|\n+----------------+--------------------+--------------+-------+---------+---------------------------+-------------------------------+--------------------+---------------+---------+---------+\n\n"
     ]
    }
   ],
   "source": [
    "# Filter from sdf only when country = 'gb'\n",
    "sdf_gb = sdf.filter(sdf['country'] == 'gb')\n",
    "sdf_gb.show()"
   ]
  },
  {
   "cell_type": "code",
   "execution_count": 0,
   "metadata": {
    "application/vnd.databricks.v1+cell": {
     "cellMetadata": {
      "byteLimit": 2048000,
      "rowLimit": 10000
     },
     "inputWidgets": {},
     "nuid": "d128fb54-34f6-438f-99f2-23fa5e4ca330",
     "showTitle": false,
     "tableResultSettingsMap": {},
     "title": ""
    }
   },
   "outputs": [],
   "source": [
    "# append sdf_gb to the delta table\n",
    "sdf_gb.write.format(\"delta\").mode(\"append\").saveAsTable(\"test_schema.ufo_sighting_data\")"
   ]
  },
  {
   "cell_type": "markdown",
   "metadata": {
    "application/vnd.databricks.v1+cell": {
     "cellMetadata": {},
     "inputWidgets": {},
     "nuid": "76b5b6af-4ea6-4b5a-ad1c-7c8644e65d47",
     "showTitle": false,
     "tableResultSettingsMap": {},
     "title": ""
    }
   },
   "source": [
    "# Save other countries"
   ]
  },
  {
   "cell_type": "code",
   "execution_count": 0,
   "metadata": {
    "application/vnd.databricks.v1+cell": {
     "cellMetadata": {
      "byteLimit": 2048000,
      "rowLimit": 10000
     },
     "inputWidgets": {},
     "nuid": "ae2b8402-6a51-452b-835e-d4d329a712ae",
     "showTitle": false,
     "tableResultSettingsMap": {},
     "title": ""
    }
   },
   "outputs": [
    {
     "output_type": "stream",
     "name": "stdout",
     "output_type": "stream",
     "text": [
      "+----------------+--------------------+--------------+-------+---------+---------------------------+-------------------------------+--------------------+---------------+----------+-----------+\n|       Date_time|                city|state/province|country|UFO_shape|length_of_encounter_seconds|described_duration_of_encounter|         description|date_documented|  latitude|  longitude|\n+----------------+--------------------+--------------+-------+---------+---------------------------+-------------------------------+--------------------+---------------+----------+-----------+\n|10/10/1994 23:00|toronto (greater ...|            on|     ca|   sphere|                     3600.0|                        ~1 hour|  Large rusty sphere|       7/3/2013| 43.666667| -79.416667|\n|10/10/1998 22:30|st. john&#39s (ca...|            nf|     ca|      egg|                     7200.0|                        2 hours|Started off as 3 ...|      12/2/2000|     47.55| -52.666667|\n|10/10/2000 07:30|   victoria (canada)|            bc|     ca| cylinder|                       30.0|                      30seconds|Smooth Shiny Cyli...|      12/2/2000| 46.216667| -63.483333|\n|10/10/2001 04:33|sydney (nsw&#44 a...|          NULL|     au|formation|                      180.0|                      3 minutes|formation and impact|     11/20/2001|-33.861481| 151.205475|\n|10/10/2001 20:10|  vancouver (canada)|            bc|     ca|    other|                      300.0|                     +5 minutes|I observed an gre...|      5/12/2011|     49.25|-123.133333|\n|10/10/2002 04:00|adelaide (pt. wak...|          NULL|     au|   circle|                      600.0|                        10 mins|  one light became 3|     10/28/2002|-34.928661| 138.598633|\n|10/10/2002 19:45|   victoria (canada)|            bc|     ca|  unknown|                      120.0|               2 minutes approx|bright white ligh...|     10/15/2002| 46.216667| -63.483333|\n|10/10/2004 03:50|portage la prairi...|            mb|     ca| changing|                     1200.0|                      20minutes|Series of Green B...|     10/27/2004| 49.966667|      -98.3|\n|10/10/2004 09:45|      nobel (canada)|            on|     ca|  unknown|                      300.0|                           5:00| Floating Red Object|     10/27/2004| 45.416667|      -80.1|\n|10/10/2008 02:00|     london (canada)|            on|     ca|    other|                      120.0|                  2 min. approx|C shape with a T ...|       6/9/2009| 42.983333|     -81.25|\n|10/10/2011 20:00|   hamilton (canada)|            on|     ca|    flash|                        4.0|                    2-4 seconds|Strange flash in ...|     10/19/2011|     43.25| -79.833333|\n|10/10/2013 17:10|     ottawa (canada)|            on|     ca|    light|                       10.0|                     10 seconds|FATHER: My name i...|     10/14/2013| 45.416667|      -75.7|\n|10/10/2013 19:15|harvey station (c...|            nb|     ca|    light|                      120.0|                      2 minutes|Slow moving brigh...|     10/23/2013| 45.716667|      -67.0|\n|10/11/1986 20:30|alice springs  (n...|          NULL|     au|     NULL|                       20.0|                     20 seconds|Being  of light r...|      1/19/2005|-23.697479| 133.883621|\n|10/11/1999 18:00|parry sound (near...|            on|     ca|     disk|                        6.0|                      6 seconds|A silvery disk sh...|      4/22/2003| 45.333333| -80.033333|\n|10/11/2009 04:45|st. john&#39s (ca...|            nf|     ca|    flash|                        5.0|                     >5 seconds|Bending streak of...|     12/12/2009|     47.55| -52.666667|\n|10/11/2013 03:00|   hamilton (canada)|            on|     ca| cylinder|                     3600.0|                      0300:0400|Enlarged still fr...|     10/23/2013|     43.25| -79.833333|\n|10/11/2013 16:01|  pickering (canada)|            on|     ca|   circle|                      300.0|                      5 minutes|Glowing blue sphe...|      1/30/2014| 43.866667| -79.033333|\n|10/11/2013 22:18|    windsor (canada)|            on|     ca|    light|                      300.0|                    3-5 minutes|5 orange lights s...|     10/14/2013| 45.583333|      -72.0|\n| 10/1/1966 19:00|edmonton (30 mi. ...|            ab|     ca|  diamond|                      300.0|                          5 min|Unusual ights in ...|       8/5/2001|     53.55|     -113.5|\n+----------------+--------------------+--------------+-------+---------+---------------------------+-------------------------------+--------------------+---------------+----------+-----------+\nonly showing top 20 rows\n"
     ]
    }
   ],
   "source": [
    "# from sdf add the all other different than us and gb into the delta table\n",
    "sdf_others = sdf_csv.filter((sdf_csv['country'] != 'us') & (sdf_csv['country'] != 'gb'))\n",
    "sdf_others.show()"
   ]
  },
  {
   "cell_type": "code",
   "execution_count": 0,
   "metadata": {
    "application/vnd.databricks.v1+cell": {
     "cellMetadata": {
      "byteLimit": 2048000,
      "rowLimit": 10000
     },
     "inputWidgets": {},
     "nuid": "a5167fc6-eb35-449d-aee5-5066a16bfc6d",
     "showTitle": false,
     "tableResultSettingsMap": {},
     "title": ""
    }
   },
   "outputs": [],
   "source": [
    "# Get the schema of the existing table\n",
    "existing_table_schema = spark.table(\"test_schema.ufo_sighting_data\").schema\n",
    "\n",
    "# Cast the DataFrame to match the schema of the existing table\n",
    "sdf_others_casted = sdf_others.select(\n",
    "    [sdf_others[col.name].cast(col.dataType) for col in existing_table_schema]\n",
    ")\n",
    "\n",
    "# Write the DataFrame to the Delta table\n",
    "sdf_others_casted.write.format(\"delta\").mode(\"append\").saveAsTable(\"test_schema.ufo_sighting_data\")"
   ]
  }
 ],
 "metadata": {
  "application/vnd.databricks.v1+notebook": {
   "computePreferences": null,
   "dashboards": [],
   "environmentMetadata": {
    "base_environment": "",
    "environment_version": "2"
   },
   "inputWidgetPreferences": null,
   "language": "python",
   "notebookMetadata": {
    "pythonIndentUnit": 4
   },
   "notebookName": "Load and Save data_Test1",
   "widgets": {}
  },
  "language_info": {
   "name": "python"
  }
 },
 "nbformat": 4,
 "nbformat_minor": 0
}